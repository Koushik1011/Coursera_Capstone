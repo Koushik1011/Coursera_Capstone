{
 "cells": [
  {
   "cell_type": "markdown",
   "metadata": {},
   "source": [
    "# The battle of Neighborhoods\n",
    " \n",
    "## Title : Restaurant type Recomender \n",
    "## Problem background :\n",
    "Bangalore is the capital and largest city of the Indian state of Karnataka. With a population of over 15 million (as of January 2016), Bangalore is the third largest city in India and 27th largest city in the world.\n",
    "\n",
    "The diversity of the cuisine available is reflective of the social and economic diversity of Bangalore. Roadside vendors, tea stalls, South Indian, North Indian, Muslim food, Chinese and Western fast food are all very popular in the city. Udupi restaurants, are very popular and serve predominantly vegetarian cuisine. The Chinese food and the Thai food served in most of the restaurants are can be customised to cater to the tastes of the Indian population. Bangalore can also be called a foodie's paradise because of its vast variety of foods and edibles with a touch of Bangalore's uniqueness and tradition\n",
    "\n",
    "## Problem Statement\n",
    "\n",
    "In a huge city like Bangalore it is difficult to choose where to open the Restaurant and what kind of restaurant to open. In this project we will explore the different neighborhoods in Bangalore and find a place and kind of restaurant to open. This would help in solving one of the major problem in restaurant business \n"
   ]
  },
  {
   "cell_type": "markdown",
   "metadata": {},
   "source": [
    "#  Data for solving the problem\n",
    "\n",
    "1. We will fetch the details of the Neighborhoods of Bangalore from the Wikipodea page https://en.wikipedia.org/wiki/List_of_neighbourhoods_in_Bangalore\n",
    "2. We will fetch the details of the Latitude and Logitude from the Google Maps API\n",
    "3. We will fetch the details of the population from https://indikosh.com/dist/655489/bangalore\n",
    "4. We will fetch the details of the restaurants from the FourSquare API"
   ]
  },
  {
   "cell_type": "code",
   "execution_count": null,
   "metadata": {},
   "outputs": [],
   "source": []
  }
 ],
 "metadata": {
  "kernelspec": {
   "display_name": "Python 3",
   "language": "python",
   "name": "python3"
  },
  "language_info": {
   "codemirror_mode": {
    "name": "ipython",
    "version": 3
   },
   "file_extension": ".py",
   "mimetype": "text/x-python",
   "name": "python",
   "nbconvert_exporter": "python",
   "pygments_lexer": "ipython3",
   "version": "3.6.5"
  }
 },
 "nbformat": 4,
 "nbformat_minor": 2
}
